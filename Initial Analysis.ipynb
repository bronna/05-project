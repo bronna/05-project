{
 "cells": [
  {
   "cell_type": "code",
   "execution_count": 15,
   "id": "d7a20e74",
   "metadata": {},
   "outputs": [],
   "source": [
    "import pandas as pd\n",
    "import matplotlib as plot"
   ]
  },
  {
   "cell_type": "code",
   "execution_count": 9,
   "id": "3f9e9089",
   "metadata": {},
   "outputs": [],
   "source": [
    "df = pd.read_csv(\"https://raw.githubusercontent.com/fivethirtyeight/data/master/comic-characters/marvel-wikia-data.csv\")"
   ]
  },
  {
   "cell_type": "code",
   "execution_count": 10,
   "id": "24ac94e2",
   "metadata": {},
   "outputs": [
    {
     "data": {
      "text/html": [
       "<div>\n",
       "<style scoped>\n",
       "    .dataframe tbody tr th:only-of-type {\n",
       "        vertical-align: middle;\n",
       "    }\n",
       "\n",
       "    .dataframe tbody tr th {\n",
       "        vertical-align: top;\n",
       "    }\n",
       "\n",
       "    .dataframe thead th {\n",
       "        text-align: right;\n",
       "    }\n",
       "</style>\n",
       "<table border=\"1\" class=\"dataframe\">\n",
       "  <thead>\n",
       "    <tr style=\"text-align: right;\">\n",
       "      <th></th>\n",
       "      <th>page_id</th>\n",
       "      <th>name</th>\n",
       "      <th>urlslug</th>\n",
       "      <th>ID</th>\n",
       "      <th>ALIGN</th>\n",
       "      <th>EYE</th>\n",
       "      <th>HAIR</th>\n",
       "      <th>SEX</th>\n",
       "      <th>GSM</th>\n",
       "      <th>ALIVE</th>\n",
       "      <th>APPEARANCES</th>\n",
       "      <th>FIRST APPEARANCE</th>\n",
       "      <th>Year</th>\n",
       "    </tr>\n",
       "  </thead>\n",
       "  <tbody>\n",
       "    <tr>\n",
       "      <th>0</th>\n",
       "      <td>1678</td>\n",
       "      <td>Spider-Man (Peter Parker)</td>\n",
       "      <td>\\/Spider-Man_(Peter_Parker)</td>\n",
       "      <td>Secret Identity</td>\n",
       "      <td>Good Characters</td>\n",
       "      <td>Hazel Eyes</td>\n",
       "      <td>Brown Hair</td>\n",
       "      <td>Male Characters</td>\n",
       "      <td>NaN</td>\n",
       "      <td>Living Characters</td>\n",
       "      <td>4043.0</td>\n",
       "      <td>Aug-62</td>\n",
       "      <td>1962.0</td>\n",
       "    </tr>\n",
       "    <tr>\n",
       "      <th>1</th>\n",
       "      <td>7139</td>\n",
       "      <td>Captain America (Steven Rogers)</td>\n",
       "      <td>\\/Captain_America_(Steven_Rogers)</td>\n",
       "      <td>Public Identity</td>\n",
       "      <td>Good Characters</td>\n",
       "      <td>Blue Eyes</td>\n",
       "      <td>White Hair</td>\n",
       "      <td>Male Characters</td>\n",
       "      <td>NaN</td>\n",
       "      <td>Living Characters</td>\n",
       "      <td>3360.0</td>\n",
       "      <td>Mar-41</td>\n",
       "      <td>1941.0</td>\n",
       "    </tr>\n",
       "    <tr>\n",
       "      <th>2</th>\n",
       "      <td>64786</td>\n",
       "      <td>Wolverine (James \\\"Logan\\\" Howlett)</td>\n",
       "      <td>\\/Wolverine_(James_%22Logan%22_Howlett)</td>\n",
       "      <td>Public Identity</td>\n",
       "      <td>Neutral Characters</td>\n",
       "      <td>Blue Eyes</td>\n",
       "      <td>Black Hair</td>\n",
       "      <td>Male Characters</td>\n",
       "      <td>NaN</td>\n",
       "      <td>Living Characters</td>\n",
       "      <td>3061.0</td>\n",
       "      <td>Oct-74</td>\n",
       "      <td>1974.0</td>\n",
       "    </tr>\n",
       "    <tr>\n",
       "      <th>3</th>\n",
       "      <td>1868</td>\n",
       "      <td>Iron Man (Anthony \\\"Tony\\\" Stark)</td>\n",
       "      <td>\\/Iron_Man_(Anthony_%22Tony%22_Stark)</td>\n",
       "      <td>Public Identity</td>\n",
       "      <td>Good Characters</td>\n",
       "      <td>Blue Eyes</td>\n",
       "      <td>Black Hair</td>\n",
       "      <td>Male Characters</td>\n",
       "      <td>NaN</td>\n",
       "      <td>Living Characters</td>\n",
       "      <td>2961.0</td>\n",
       "      <td>Mar-63</td>\n",
       "      <td>1963.0</td>\n",
       "    </tr>\n",
       "    <tr>\n",
       "      <th>4</th>\n",
       "      <td>2460</td>\n",
       "      <td>Thor (Thor Odinson)</td>\n",
       "      <td>\\/Thor_(Thor_Odinson)</td>\n",
       "      <td>No Dual Identity</td>\n",
       "      <td>Good Characters</td>\n",
       "      <td>Blue Eyes</td>\n",
       "      <td>Blond Hair</td>\n",
       "      <td>Male Characters</td>\n",
       "      <td>NaN</td>\n",
       "      <td>Living Characters</td>\n",
       "      <td>2258.0</td>\n",
       "      <td>Nov-50</td>\n",
       "      <td>1950.0</td>\n",
       "    </tr>\n",
       "  </tbody>\n",
       "</table>\n",
       "</div>"
      ],
      "text/plain": [
       "   page_id                                 name  \\\n",
       "0     1678            Spider-Man (Peter Parker)   \n",
       "1     7139      Captain America (Steven Rogers)   \n",
       "2    64786  Wolverine (James \\\"Logan\\\" Howlett)   \n",
       "3     1868    Iron Man (Anthony \\\"Tony\\\" Stark)   \n",
       "4     2460                  Thor (Thor Odinson)   \n",
       "\n",
       "                                   urlslug                ID  \\\n",
       "0              \\/Spider-Man_(Peter_Parker)   Secret Identity   \n",
       "1        \\/Captain_America_(Steven_Rogers)   Public Identity   \n",
       "2  \\/Wolverine_(James_%22Logan%22_Howlett)   Public Identity   \n",
       "3    \\/Iron_Man_(Anthony_%22Tony%22_Stark)   Public Identity   \n",
       "4                    \\/Thor_(Thor_Odinson)  No Dual Identity   \n",
       "\n",
       "                ALIGN         EYE        HAIR              SEX  GSM  \\\n",
       "0     Good Characters  Hazel Eyes  Brown Hair  Male Characters  NaN   \n",
       "1     Good Characters   Blue Eyes  White Hair  Male Characters  NaN   \n",
       "2  Neutral Characters   Blue Eyes  Black Hair  Male Characters  NaN   \n",
       "3     Good Characters   Blue Eyes  Black Hair  Male Characters  NaN   \n",
       "4     Good Characters   Blue Eyes  Blond Hair  Male Characters  NaN   \n",
       "\n",
       "               ALIVE  APPEARANCES FIRST APPEARANCE    Year  \n",
       "0  Living Characters       4043.0           Aug-62  1962.0  \n",
       "1  Living Characters       3360.0           Mar-41  1941.0  \n",
       "2  Living Characters       3061.0           Oct-74  1974.0  \n",
       "3  Living Characters       2961.0           Mar-63  1963.0  \n",
       "4  Living Characters       2258.0           Nov-50  1950.0  "
      ]
     },
     "execution_count": 10,
     "metadata": {},
     "output_type": "execute_result"
    }
   ],
   "source": [
    "df.head()"
   ]
  },
  {
   "cell_type": "code",
   "execution_count": 11,
   "id": "c5021fc0",
   "metadata": {},
   "outputs": [
    {
     "name": "stdout",
     "output_type": "stream",
     "text": [
      "<class 'pandas.core.frame.DataFrame'>\n",
      "RangeIndex: 16376 entries, 0 to 16375\n",
      "Data columns (total 13 columns):\n",
      " #   Column            Non-Null Count  Dtype  \n",
      "---  ------            --------------  -----  \n",
      " 0   page_id           16376 non-null  int64  \n",
      " 1   name              16376 non-null  object \n",
      " 2   urlslug           16376 non-null  object \n",
      " 3   ID                12606 non-null  object \n",
      " 4   ALIGN             13564 non-null  object \n",
      " 5   EYE               6609 non-null   object \n",
      " 6   HAIR              12112 non-null  object \n",
      " 7   SEX               15522 non-null  object \n",
      " 8   GSM               90 non-null     object \n",
      " 9   ALIVE             16373 non-null  object \n",
      " 10  APPEARANCES       15280 non-null  float64\n",
      " 11  FIRST APPEARANCE  15561 non-null  object \n",
      " 12  Year              15561 non-null  float64\n",
      "dtypes: float64(2), int64(1), object(10)\n",
      "memory usage: 1.6+ MB\n"
     ]
    }
   ],
   "source": [
    "df.info()"
   ]
  },
  {
   "cell_type": "code",
   "execution_count": 13,
   "id": "36baaa0a",
   "metadata": {},
   "outputs": [
    {
     "data": {
      "text/plain": [
       "array(['Male Characters', 'Female Characters', 'Genderfluid Characters',\n",
       "       'Agender Characters', nan], dtype=object)"
      ]
     },
     "execution_count": 13,
     "metadata": {},
     "output_type": "execute_result"
    }
   ],
   "source": [
    "df['SEX'].unique()"
   ]
  },
  {
   "cell_type": "code",
   "execution_count": 14,
   "id": "98dd9efa",
   "metadata": {},
   "outputs": [
    {
     "data": {
      "text/plain": [
       "Male Characters           11638\n",
       "Female Characters          3837\n",
       "Agender Characters           45\n",
       "Genderfluid Characters        2\n",
       "Name: SEX, dtype: int64"
      ]
     },
     "execution_count": 14,
     "metadata": {},
     "output_type": "execute_result"
    }
   ],
   "source": [
    "df['SEX'].value_counts()"
   ]
  },
  {
   "cell_type": "code",
   "execution_count": 16,
   "id": "a298711f",
   "metadata": {},
   "outputs": [
    {
     "data": {
      "text/plain": [
       "<AxesSubplot:>"
      ]
     },
     "execution_count": 16,
     "metadata": {},
     "output_type": "execute_result"
    },
    {
     "data": {
      "image/png": "[encoded data removed]",
      "text/plain": [
       "<Figure size 432x288 with 1 Axes>"
      ]
     },
     "metadata": {
      "needs_background": "light"
     },
     "output_type": "display_data"
    }
   ],
   "source": [
    "df['SEX'].value_counts(ascending=True).plot(kind='barh')"
   ]
  },
  {
   "cell_type": "code",
   "execution_count": 18,
   "id": "c1724403",
   "metadata": {},
   "outputs": [],
   "source": [
    "df_male = df[df['SEX'] == \"Male Characters\"]"
   ]
  },
  {
   "cell_type": "code",
   "execution_count": 19,
   "id": "55bcb58c",
   "metadata": {},
   "outputs": [],
   "source": [
    "number_male = df_male.count()"
   ]
  },
  {
   "cell_type": "code",
   "execution_count": 20,
   "id": "93172d03",
   "metadata": {},
   "outputs": [
    {
     "data": {
      "text/plain": [
       "182601.0"
      ]
     },
     "execution_count": 20,
     "metadata": {},
     "output_type": "execute_result"
    }
   ],
   "source": [
    "number_male_appearances = df_male[\"APPEARANCES\"].sum()\n",
    "number_male_appearances"
   ]
  },
  {
   "cell_type": "code",
   "execution_count": 21,
   "id": "5acc0dfc",
   "metadata": {},
   "outputs": [],
   "source": [
    "df_female = df[df['SEX'] == \"Female Characters\"]"
   ]
  },
  {
   "cell_type": "code",
   "execution_count": 22,
   "id": "3991fc0c",
   "metadata": {},
   "outputs": [],
   "source": [
    "number_female = df_female.count()"
   ]
  },
  {
   "cell_type": "code",
   "execution_count": 23,
   "id": "893c9e7f",
   "metadata": {},
   "outputs": [
    {
     "data": {
      "text/plain": [
       "73005.0"
      ]
     },
     "execution_count": 23,
     "metadata": {},
     "output_type": "execute_result"
    }
   ],
   "source": [
    "number_female_appearances = df_female[\"APPEARANCES\"].sum()\n",
    "number_female_appearances"
   ]
  },
  {
   "cell_type": "code",
   "execution_count": 25,
   "id": "e16d5153",
   "metadata": {},
   "outputs": [
    {
     "data": {
      "text/plain": [
       "page_id             0.752052\n",
       "name                0.752052\n",
       "urlslug             0.752052\n",
       "ID                  0.749733\n",
       "ALIGN               0.755525\n",
       "EYE                 0.699688\n",
       "HAIR                0.729344\n",
       "SEX                 0.752052\n",
       "GSM                 0.545455\n",
       "ALIVE               0.752052\n",
       "APPEARANCES         0.751759\n",
       "FIRST APPEARANCE    0.753666\n",
       "Year                0.753666\n",
       "dtype: float64"
      ]
     },
     "execution_count": 25,
     "metadata": {},
     "output_type": "execute_result"
    }
   ],
   "source": [
    "number_male / (number_male + number_female)"
   ]
  },
  {
   "cell_type": "code",
   "execution_count": 26,
   "id": "d6cdf5ca",
   "metadata": {},
   "outputs": [
    {
     "data": {
      "text/plain": [
       "0.7143846388582428"
      ]
     },
     "execution_count": 26,
     "metadata": {},
     "output_type": "execute_result"
    }
   ],
   "source": [
    "number_male_appearances / (number_male_appearances + number_female_appearances)"
   ]
  },
  {
   "cell_type": "code",
   "execution_count": 28,
   "id": "74a64209",
   "metadata": {},
   "outputs": [
    {
     "data": {
      "text/plain": [
       "<AxesSubplot:>"
      ]
     },
     "execution_count": 28,
     "metadata": {},
     "output_type": "execute_result"
    },
    {
     "data": {
      "image/png": "[encoded data removed]",
      "text/plain": [
       "<Figure size 432x288 with 1 Axes>"
      ]
     },
     "metadata": {
      "needs_background": "light"
     },
     "output_type": "display_data"
    }
   ],
   "source": [
    "df_male[\"APPEARANCES\"].hist(bins=range(0, 40))"
   ]
  },
  {
   "cell_type": "code",
   "execution_count": 29,
   "id": "7e964bb9",
   "metadata": {},
   "outputs": [
    {
     "data": {
      "text/plain": [
       "<AxesSubplot:>"
      ]
     },
     "execution_count": 29,
     "metadata": {},
     "output_type": "execute_result"
    },
    {
     "data": {
      "image/png": "[encoded data removed]",
      "text/plain": [
       "<Figure size 432x288 with 1 Axes>"
      ]
     },
     "metadata": {
      "needs_background": "light"
     },
     "output_type": "display_data"
    }
   ],
   "source": [
    "df_female[\"APPEARANCES\"].hist(bins=range(0, 40))"
   ]
  },
  {
   "cell_type": "code",
   "execution_count": 35,
   "id": "c6b53d24",
   "metadata": {},
   "outputs": [
    {
     "data": {
      "text/html": [
       "<div>\n",
       "<style scoped>\n",
       "    .dataframe tbody tr th:only-of-type {\n",
       "        vertical-align: middle;\n",
       "    }\n",
       "\n",
       "    .dataframe tbody tr th {\n",
       "        vertical-align: top;\n",
       "    }\n",
       "\n",
       "    .dataframe thead th {\n",
       "        text-align: right;\n",
       "    }\n",
       "</style>\n",
       "<table border=\"1\" class=\"dataframe\">\n",
       "  <thead>\n",
       "    <tr style=\"text-align: right;\">\n",
       "      <th></th>\n",
       "      <th>0</th>\n",
       "    </tr>\n",
       "  </thead>\n",
       "  <tbody>\n",
       "    <tr>\n",
       "      <th>0</th>\n",
       "      <td>Brown Hair</td>\n",
       "    </tr>\n",
       "    <tr>\n",
       "      <th>1</th>\n",
       "      <td>White Hair</td>\n",
       "    </tr>\n",
       "    <tr>\n",
       "      <th>2</th>\n",
       "      <td>Black Hair</td>\n",
       "    </tr>\n",
       "    <tr>\n",
       "      <th>3</th>\n",
       "      <td>Blond Hair</td>\n",
       "    </tr>\n",
       "    <tr>\n",
       "      <th>4</th>\n",
       "      <td>No Hair</td>\n",
       "    </tr>\n",
       "    <tr>\n",
       "      <th>5</th>\n",
       "      <td>Blue Hair</td>\n",
       "    </tr>\n",
       "    <tr>\n",
       "      <th>6</th>\n",
       "      <td>Red Hair</td>\n",
       "    </tr>\n",
       "    <tr>\n",
       "      <th>7</th>\n",
       "      <td>Bald</td>\n",
       "    </tr>\n",
       "    <tr>\n",
       "      <th>8</th>\n",
       "      <td>Auburn Hair</td>\n",
       "    </tr>\n",
       "    <tr>\n",
       "      <th>9</th>\n",
       "      <td>Grey Hair</td>\n",
       "    </tr>\n",
       "    <tr>\n",
       "      <th>10</th>\n",
       "      <td>Silver Hair</td>\n",
       "    </tr>\n",
       "    <tr>\n",
       "      <th>11</th>\n",
       "      <td>Purple Hair</td>\n",
       "    </tr>\n",
       "    <tr>\n",
       "      <th>12</th>\n",
       "      <td>Strawberry Blond Hair</td>\n",
       "    </tr>\n",
       "    <tr>\n",
       "      <th>13</th>\n",
       "      <td>Green Hair</td>\n",
       "    </tr>\n",
       "    <tr>\n",
       "      <th>14</th>\n",
       "      <td>Reddish Blond Hair</td>\n",
       "    </tr>\n",
       "    <tr>\n",
       "      <th>15</th>\n",
       "      <td>Gold Hair</td>\n",
       "    </tr>\n",
       "    <tr>\n",
       "      <th>16</th>\n",
       "      <td>NaN</td>\n",
       "    </tr>\n",
       "    <tr>\n",
       "      <th>17</th>\n",
       "      <td>Orange Hair</td>\n",
       "    </tr>\n",
       "    <tr>\n",
       "      <th>18</th>\n",
       "      <td>Pink Hair</td>\n",
       "    </tr>\n",
       "    <tr>\n",
       "      <th>19</th>\n",
       "      <td>Variable Hair</td>\n",
       "    </tr>\n",
       "    <tr>\n",
       "      <th>20</th>\n",
       "      <td>Yellow Hair</td>\n",
       "    </tr>\n",
       "    <tr>\n",
       "      <th>21</th>\n",
       "      <td>Light Brown Hair</td>\n",
       "    </tr>\n",
       "    <tr>\n",
       "      <th>22</th>\n",
       "      <td>Magenta Hair</td>\n",
       "    </tr>\n",
       "    <tr>\n",
       "      <th>23</th>\n",
       "      <td>Bronze Hair</td>\n",
       "    </tr>\n",
       "    <tr>\n",
       "      <th>24</th>\n",
       "      <td>Dyed Hair</td>\n",
       "    </tr>\n",
       "    <tr>\n",
       "      <th>25</th>\n",
       "      <td>Orange-brown Hair</td>\n",
       "    </tr>\n",
       "  </tbody>\n",
       "</table>\n",
       "</div>"
      ],
      "text/plain": [
       "                        0\n",
       "0              Brown Hair\n",
       "1              White Hair\n",
       "2              Black Hair\n",
       "3              Blond Hair\n",
       "4                 No Hair\n",
       "5               Blue Hair\n",
       "6                Red Hair\n",
       "7                    Bald\n",
       "8             Auburn Hair\n",
       "9               Grey Hair\n",
       "10            Silver Hair\n",
       "11            Purple Hair\n",
       "12  Strawberry Blond Hair\n",
       "13             Green Hair\n",
       "14     Reddish Blond Hair\n",
       "15              Gold Hair\n",
       "16                    NaN\n",
       "17            Orange Hair\n",
       "18              Pink Hair\n",
       "19          Variable Hair\n",
       "20            Yellow Hair\n",
       "21       Light Brown Hair\n",
       "22           Magenta Hair\n",
       "23            Bronze Hair\n",
       "24              Dyed Hair\n",
       "25      Orange-brown Hair"
      ]
     },
     "execution_count": 35,
     "metadata": {},
     "output_type": "execute_result"
    }
   ],
   "source": [
    "pd.DataFrame(df['HAIR'].unique())"
   ]
  },
  {
   "cell_type": "code",
   "execution_count": 36,
   "id": "0bd8e4ec",
   "metadata": {},
   "outputs": [],
   "source": [
    "df_blond = df[(df[\"HAIR\"] == \"Blond Hair\") | (df[\"HAIR\"] == \"Strawberry Blond Hair\") | (df[\"HAIR\"] == \"Reddish Blond Hair\") | (df[\"HAIR\"] == \"Gold Hair\") | (df[\"HAIR\"] == \"Yellow Hair\")]"
   ]
  },
  {
   "cell_type": "code",
   "execution_count": 38,
   "id": "d35c18a7",
   "metadata": {},
   "outputs": [
    {
     "data": {
      "text/html": [
       "<div>\n",
       "<style scoped>\n",
       "    .dataframe tbody tr th:only-of-type {\n",
       "        vertical-align: middle;\n",
       "    }\n",
       "\n",
       "    .dataframe tbody tr th {\n",
       "        vertical-align: top;\n",
       "    }\n",
       "\n",
       "    .dataframe thead th {\n",
       "        text-align: right;\n",
       "    }\n",
       "</style>\n",
       "<table border=\"1\" class=\"dataframe\">\n",
       "  <thead>\n",
       "    <tr style=\"text-align: right;\">\n",
       "      <th></th>\n",
       "      <th>0</th>\n",
       "    </tr>\n",
       "  </thead>\n",
       "  <tbody>\n",
       "    <tr>\n",
       "      <th>0</th>\n",
       "      <td>Hazel Eyes</td>\n",
       "    </tr>\n",
       "    <tr>\n",
       "      <th>1</th>\n",
       "      <td>Blue Eyes</td>\n",
       "    </tr>\n",
       "    <tr>\n",
       "      <th>2</th>\n",
       "      <td>Brown Eyes</td>\n",
       "    </tr>\n",
       "    <tr>\n",
       "      <th>3</th>\n",
       "      <td>Green Eyes</td>\n",
       "    </tr>\n",
       "    <tr>\n",
       "      <th>4</th>\n",
       "      <td>Grey Eyes</td>\n",
       "    </tr>\n",
       "    <tr>\n",
       "      <th>5</th>\n",
       "      <td>Yellow Eyes</td>\n",
       "    </tr>\n",
       "    <tr>\n",
       "      <th>6</th>\n",
       "      <td>Gold Eyes</td>\n",
       "    </tr>\n",
       "    <tr>\n",
       "      <th>7</th>\n",
       "      <td>Red Eyes</td>\n",
       "    </tr>\n",
       "    <tr>\n",
       "      <th>8</th>\n",
       "      <td>Black Eyeballs</td>\n",
       "    </tr>\n",
       "    <tr>\n",
       "      <th>9</th>\n",
       "      <td>Amber Eyes</td>\n",
       "    </tr>\n",
       "    <tr>\n",
       "      <th>10</th>\n",
       "      <td>Variable Eyes</td>\n",
       "    </tr>\n",
       "    <tr>\n",
       "      <th>11</th>\n",
       "      <td>NaN</td>\n",
       "    </tr>\n",
       "    <tr>\n",
       "      <th>12</th>\n",
       "      <td>Black Eyes</td>\n",
       "    </tr>\n",
       "    <tr>\n",
       "      <th>13</th>\n",
       "      <td>White Eyes</td>\n",
       "    </tr>\n",
       "    <tr>\n",
       "      <th>14</th>\n",
       "      <td>Orange Eyes</td>\n",
       "    </tr>\n",
       "    <tr>\n",
       "      <th>15</th>\n",
       "      <td>Silver Eyes</td>\n",
       "    </tr>\n",
       "    <tr>\n",
       "      <th>16</th>\n",
       "      <td>Purple Eyes</td>\n",
       "    </tr>\n",
       "    <tr>\n",
       "      <th>17</th>\n",
       "      <td>Pink Eyes</td>\n",
       "    </tr>\n",
       "    <tr>\n",
       "      <th>18</th>\n",
       "      <td>One Eye</td>\n",
       "    </tr>\n",
       "    <tr>\n",
       "      <th>19</th>\n",
       "      <td>Violet Eyes</td>\n",
       "    </tr>\n",
       "    <tr>\n",
       "      <th>20</th>\n",
       "      <td>Multiple Eyes</td>\n",
       "    </tr>\n",
       "    <tr>\n",
       "      <th>21</th>\n",
       "      <td>Magenta Eyes</td>\n",
       "    </tr>\n",
       "    <tr>\n",
       "      <th>22</th>\n",
       "      <td>Yellow Eyeballs</td>\n",
       "    </tr>\n",
       "    <tr>\n",
       "      <th>23</th>\n",
       "      <td>No Eyes</td>\n",
       "    </tr>\n",
       "    <tr>\n",
       "      <th>24</th>\n",
       "      <td>Compound Eyes</td>\n",
       "    </tr>\n",
       "  </tbody>\n",
       "</table>\n",
       "</div>"
      ],
      "text/plain": [
       "                  0\n",
       "0        Hazel Eyes\n",
       "1         Blue Eyes\n",
       "2        Brown Eyes\n",
       "3        Green Eyes\n",
       "4         Grey Eyes\n",
       "5       Yellow Eyes\n",
       "6         Gold Eyes\n",
       "7          Red Eyes\n",
       "8    Black Eyeballs\n",
       "9        Amber Eyes\n",
       "10    Variable Eyes\n",
       "11              NaN\n",
       "12       Black Eyes\n",
       "13       White Eyes\n",
       "14      Orange Eyes\n",
       "15      Silver Eyes\n",
       "16      Purple Eyes\n",
       "17        Pink Eyes\n",
       "18          One Eye\n",
       "19      Violet Eyes\n",
       "20    Multiple Eyes\n",
       "21     Magenta Eyes\n",
       "22  Yellow Eyeballs\n",
       "23          No Eyes\n",
       "24    Compound Eyes"
      ]
     },
     "execution_count": 38,
     "metadata": {},
     "output_type": "execute_result"
    }
   ],
   "source": [
    "pd.DataFrame(df['EYE'].unique())"
   ]
  },
  {
   "cell_type": "code",
   "execution_count": 39,
   "id": "c2f08601",
   "metadata": {},
   "outputs": [
    {
     "name": "stdout",
     "output_type": "stream",
     "text": [
      "<class 'pandas.core.frame.DataFrame'>\n",
      "Int64Index: 673 entries, 4 to 16330\n",
      "Data columns (total 13 columns):\n",
      " #   Column            Non-Null Count  Dtype  \n",
      "---  ------            --------------  -----  \n",
      " 0   page_id           673 non-null    int64  \n",
      " 1   name              673 non-null    object \n",
      " 2   urlslug           673 non-null    object \n",
      " 3   ID                616 non-null    object \n",
      " 4   ALIGN             596 non-null    object \n",
      " 5   EYE               673 non-null    object \n",
      " 6   HAIR              673 non-null    object \n",
      " 7   SEX               671 non-null    object \n",
      " 8   GSM               8 non-null      object \n",
      " 9   ALIVE             673 non-null    object \n",
      " 10  APPEARANCES       639 non-null    float64\n",
      " 11  FIRST APPEARANCE  636 non-null    object \n",
      " 12  Year              636 non-null    float64\n",
      "dtypes: float64(2), int64(1), object(10)\n",
      "memory usage: 73.6+ KB\n"
     ]
    }
   ],
   "source": [
    "df_blue_blond = df_blond[df_blond[\"EYE\"] == \"Blue Eyes\"]\n",
    "df_blue_blond.info()"
   ]
  },
  {
   "cell_type": "code",
   "execution_count": 40,
   "id": "4f006f65",
   "metadata": {},
   "outputs": [
    {
     "data": {
      "text/plain": [
       "array(['Good Characters', nan, 'Neutral Characters', 'Bad Characters'],\n",
       "      dtype=object)"
      ]
     },
     "execution_count": 40,
     "metadata": {},
     "output_type": "execute_result"
    }
   ],
   "source": [
    "df_blue_blond[\"ALIGN\"].unique()"
   ]
  },
  {
   "cell_type": "code",
   "execution_count": 41,
   "id": "8230f64c",
   "metadata": {},
   "outputs": [
    {
     "data": {
      "text/plain": [
       "Good Characters       332\n",
       "Bad Characters        173\n",
       "Neutral Characters     91\n",
       "Name: ALIGN, dtype: int64"
      ]
     },
     "execution_count": 41,
     "metadata": {},
     "output_type": "execute_result"
    }
   ],
   "source": [
    "df_blue_blond[\"ALIGN\"].value_counts()"
   ]
  },
  {
   "cell_type": "code",
   "execution_count": 43,
   "id": "96eed3f3",
   "metadata": {},
   "outputs": [
    {
     "data": {
      "text/plain": [
       "page_id              0.493314\n",
       "name                 0.493314\n",
       "urlslug              0.493314\n",
       "ID                   0.538961\n",
       "ALIGN                0.557047\n",
       "EYE                  0.493314\n",
       "HAIR                 0.493314\n",
       "SEX                  0.494784\n",
       "GSM                 41.500000\n",
       "ALIVE                0.493314\n",
       "APPEARANCES          0.519562\n",
       "FIRST APPEARANCE     0.522013\n",
       "Year                 0.522013\n",
       "dtype: float64"
      ]
     },
     "execution_count": 43,
     "metadata": {},
     "output_type": "execute_result"
    }
   ],
   "source": [
    "good_blue_blond = df_blue_blond[\"ALIGN\"].value_counts()[\"Good Characters\"] / df_blue_blond.count()\n",
    "good_blue_blond"
   ]
  },
  {
   "cell_type": "code",
   "execution_count": 44,
   "id": "be131a05",
   "metadata": {},
   "outputs": [
    {
     "data": {
      "text/plain": [
       "page_id              0.257058\n",
       "name                 0.257058\n",
       "urlslug              0.257058\n",
       "ID                   0.280844\n",
       "ALIGN                0.290268\n",
       "EYE                  0.257058\n",
       "HAIR                 0.257058\n",
       "SEX                  0.257824\n",
       "GSM                 21.625000\n",
       "ALIVE                0.257058\n",
       "APPEARANCES          0.270736\n",
       "FIRST APPEARANCE     0.272013\n",
       "Year                 0.272013\n",
       "dtype: float64"
      ]
     },
     "execution_count": 44,
     "metadata": {},
     "output_type": "execute_result"
    }
   ],
   "source": [
    "bad_blue_blond = df_blue_blond[\"ALIGN\"].value_counts()[\"Bad Characters\"] / df_blue_blond.count()\n",
    "bad_blue_blond"
   ]
  },
  {
   "cell_type": "code",
   "execution_count": 46,
   "id": "a2210eb4",
   "metadata": {},
   "outputs": [
    {
     "data": {
      "text/plain": [
       "Bad Characters        6720\n",
       "Good Characters       4636\n",
       "Neutral Characters    2208\n",
       "Name: ALIGN, dtype: int64"
      ]
     },
     "execution_count": 46,
     "metadata": {},
     "output_type": "execute_result"
    }
   ],
   "source": [
    "df[\"ALIGN\"].value_counts()"
   ]
  },
  {
   "cell_type": "code",
   "execution_count": 49,
   "id": "2c34c97e",
   "metadata": {},
   "outputs": [
    {
     "data": {
      "text/plain": [
       "page_id              0.283097\n",
       "name                 0.283097\n",
       "urlslug              0.283097\n",
       "ID                   0.367761\n",
       "ALIGN                0.341787\n",
       "EYE                  0.701468\n",
       "HAIR                 0.382761\n",
       "SEX                  0.298673\n",
       "GSM                 51.511111\n",
       "ALIVE                0.283149\n",
       "APPEARANCES          0.303403\n",
       "FIRST APPEARANCE     0.297924\n",
       "Year                 0.297924\n",
       "dtype: float64"
      ]
     },
     "execution_count": 49,
     "metadata": {},
     "output_type": "execute_result"
    }
   ],
   "source": [
    "good = df[\"ALIGN\"].value_counts()[\"Good Characters\"] / df.count()\n",
    "good"
   ]
  },
  {
   "cell_type": "code",
   "execution_count": 48,
   "id": "112a40ea",
   "metadata": {},
   "outputs": [
    {
     "data": {
      "text/plain": [
       "page_id              0.410357\n",
       "name                 0.410357\n",
       "urlslug              0.410357\n",
       "ID                   0.533079\n",
       "ALIGN                0.495429\n",
       "EYE                  1.016795\n",
       "HAIR                 0.554822\n",
       "SEX                  0.432934\n",
       "GSM                 74.666667\n",
       "ALIVE                0.410432\n",
       "APPEARANCES          0.439791\n",
       "FIRST APPEARANCE     0.431849\n",
       "Year                 0.431849\n",
       "dtype: float64"
      ]
     },
     "execution_count": 48,
     "metadata": {},
     "output_type": "execute_result"
    }
   ],
   "source": [
    "bad = df[\"ALIGN\"].value_counts()[\"Bad Characters\"] / df.count()\n",
    "bad"
   ]
  },
  {
   "cell_type": "code",
   "execution_count": 50,
   "id": "8cf11d2e",
   "metadata": {},
   "outputs": [],
   "source": [
    "# For blond hair, blue eye characters, 49% are good and 26% are bad\n",
    "# For all avengers, 28% are good and 41% are bad"
   ]
  },
  {
   "cell_type": "code",
   "execution_count": null,
   "id": "2f50551e",
   "metadata": {},
   "outputs": [],
   "source": []
  }
 ],
 "metadata": {
  "kernelspec": {
   "display_name": "Python 3",
   "language": "python",
   "name": "python3"
  },
  "language_info": {
   "codemirror_mode": {
    "name": "ipython",
    "version": 3
   },
   "file_extension": ".py",
   "mimetype": "text/x-python",
   "name": "python",
   "nbconvert_exporter": "python",
   "pygments_lexer": "ipython3",
   "version": "3.9.5"
  }
 },
 "nbformat": 4,
 "nbformat_minor": 5
}
